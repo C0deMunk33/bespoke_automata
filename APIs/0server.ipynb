{
  "nbformat": 4,
  "nbformat_minor": 0,
  "metadata": {
    "colab": {
      "provenance": []
    },
    "kernelspec": {
      "name": "python3",
      "display_name": "Python 3"
    },
    "language_info": {
      "name": "python"
    }
  },
  "cells": [
    {
      "cell_type": "code",
      "source": [
        "!pip install gpt4all # this works.\n",
        "!pip install flask\n",
        "!pip install --upgrade ngrok flask-ngrok\n",
        "!pip install pyngrok"
      ],
      "metadata": {
        "id": "v4Ykoc7NTfyV"
      },
      "execution_count": null,
      "outputs": []
    },
    {
      "cell_type": "code",
      "source": [],
      "metadata": {
        "id": "w13rwrP2U4gl"
      },
      "execution_count": null,
      "outputs": []
    },
    {
      "cell_type": "code",
      "source": [
        "#!wget -O mistral-7b-openorca.Q4_0.gguf https://gpt4all.io/models/gguf/mistral-7b-openorca.Q4_0.gguf\n",
        "!wget -O  mistral-7b-instruct-v0.1.Q4_0.gguf https://gpt4all.io/models/gguf/mistral-7b-instruct-v0.1.Q4_0.gguf"
      ],
      "metadata": {
        "id": "BQcxLagmf3CF"
      },
      "execution_count": null,
      "outputs": []
    },
    {
      "cell_type": "code",
      "source": [
        "import gpt4all\n",
        "import flask\n",
        "import flask_ngrok"
      ],
      "metadata": {
        "id": "akjfVKQVhMnn"
      },
      "execution_count": null,
      "outputs": []
    },
    {
      "cell_type": "code",
      "source": [
        "#gptw = gpt4all.GPT4All(\"ggml-replit-code-v1-3b.bin\")\n",
        "gptw = gpt4all.GPT4All(\"/content/mistral-7b-instruct-v0.1.Q4_0.gguf\")"
      ],
      "metadata": {
        "id": "57jvC9DeTtrO"
      },
      "execution_count": null,
      "outputs": []
    },
    {
      "cell_type": "code",
      "source": [
        "# code by Guy Giesbrecht https://github.com/TheOneTrueGuy\n",
        "# this is scratch pad code for a developing colab server to supply GPU power to anyone not equipped\n",
        "# while using Bespoke Automata. I'm still testing and sorting execution so this is NOT a \"run all\" notebook.\n",
        "# the server address to this notebook will need to be updated at every restart to allow BA to access this resource\n"
      ],
      "metadata": {
        "id": "z7dFgL3UOqS0"
      },
      "execution_count": null,
      "outputs": []
    },
    {
      "cell_type": "code",
      "source": [
        "!ngrok config add-authtoken"
      ],
      "metadata": {
        "id": "KbdCe1TglL3B"
      },
      "execution_count": null,
      "outputs": []
    },
    {
      "cell_type": "code",
      "source": [
        "response = gptw.generate(\"The cosmic alignment of human attention results from the combining of components that are both base and pure. The list of these elements is:\")\n",
        "print(response) # just for testing"
      ],
      "metadata": {
        "id": "vQkHswKjT3DV"
      },
      "execution_count": null,
      "outputs": []
    },
    {
      "cell_type": "code",
      "source": [
        "from flask_ngrok import run_with_ngrok\n",
        "from flask import Flask, request\n",
        "\n",
        "app = Flask(__name__)\n",
        "run_with_ngrok(app)  # Start ngrok when the app is run\n",
        "\n",
        "@app.route('/')\n",
        "def generate():\n",
        "    # Get the 'msg' parameter from the query string\n",
        "    msg = request.args.get('msg', '')\n",
        "\n",
        "    # Reverse the order of characters in the message\n",
        "    reversed_msg = gptw.generate(msg)\n",
        "\n",
        "    # Return the reversed message\n",
        "    return reversed_msg\n",
        "\n",
        "if __name__ == '__main__':\n",
        "    app.run()\n"
      ],
      "metadata": {
        "id": "QzTB8o8VV4Ne"
      },
      "execution_count": null,
      "outputs": []
    },
    {
      "cell_type": "code",
      "source": [
        "\n",
        "\n",
        "# Import necessary modules\n",
        "from flask import Flask, request\n",
        "from pyngrok import ngrok\n",
        "\n",
        "# Create a Flask app\n",
        "app = Flask(__name__)\n",
        "\n",
        "@app.route('/')\n",
        "def generate():\n",
        "    # Get the 'msg' parameter from the query string\n",
        "    msg = request.args.get('msg', '')\n",
        "\n",
        "    # Reverse the order of characters in the message\n",
        "    reversed_msg = gptw.generate(msg)\n",
        "\n",
        "    # Return the reversed message\n",
        "    return reversed_msg\n",
        "\n",
        "# Use pyngrok to set up the tunnel\n",
        "public_url = ngrok.connect(5000)\n",
        "\n",
        "print(' * ngrok tunnel \"{}\" -> \"http://127.0.0.1:{}/\"'.format(public_url, 5000))\n",
        "\n",
        "# Run the Flask app\n",
        "app.run(port=5000)\n"
      ],
      "metadata": {
        "id": "viGAjB-Bkml-"
      },
      "execution_count": null,
      "outputs": []
    },
    {
      "cell_type": "code",
      "source": [
        "# This will run the app and expose it to a public URL through ngrok\n",
        "app.run()\n"
      ],
      "metadata": {
        "id": "6qBbIGx6U7Ut"
      },
      "execution_count": null,
      "outputs": []
    },
    {
      "cell_type": "code",
      "source": [
        "\n"
      ],
      "metadata": {
        "id": "FeG0apDfuK8Q",
        "colab": {
          "base_uri": "https://localhost:8080/",
          "height": 34
        },
        "outputId": "8b10fc9f-6e38-4606-92b2-080c99659570"
      },
      "execution_count": null,
      "outputs": [
        {
          "output_type": "display_data",
          "data": {
            "text/plain": [
              "<IPython.core.display.Javascript object>"
            ],
            "application/javascript": [
              "(async (port, path, text, element) => {\n",
              "    if (!google.colab.kernel.accessAllowed) {\n",
              "      return;\n",
              "    }\n",
              "    element.appendChild(document.createTextNode(''));\n",
              "    const url = await google.colab.kernel.proxyPort(port);\n",
              "    const anchor = document.createElement('a');\n",
              "    anchor.href = new URL(path, url).toString();\n",
              "    anchor.target = '_blank';\n",
              "    anchor.setAttribute('data-href', url + path);\n",
              "    anchor.textContent = text;\n",
              "    element.appendChild(anchor);\n",
              "  })(8084, \"/\", \"https://localhost:8084/\", window.element)"
            ]
          },
          "metadata": {}
        }
      ]
    },
    {
      "cell_type": "code",
      "source": [
        "from flask import Flask\n",
        "from google.colab import output\n",
        "output.serve_kernel_port_as_window(8084)\n",
        "\n",
        "app = Flask(__name__)\n",
        "\n",
        "@app.route('/')\n",
        "def hello():\n",
        "    return 'Hello, world from Saturn!'\n",
        "\n",
        "if __name__ == '__main__':\n",
        "    app.run(host='0.0.0.0', port=8084)\n"
      ],
      "metadata": {
        "id": "drPcQNQAuMZZ",
        "colab": {
          "base_uri": "https://localhost:8080/",
          "height": 159
        },
        "outputId": "5487f6aa-47fc-4b7f-baf6-b95584bb9181"
      },
      "execution_count": null,
      "outputs": [
        {
          "output_type": "display_data",
          "data": {
            "text/plain": [
              "<IPython.core.display.Javascript object>"
            ],
            "application/javascript": [
              "(async (port, path, text, element) => {\n",
              "    if (!google.colab.kernel.accessAllowed) {\n",
              "      return;\n",
              "    }\n",
              "    element.appendChild(document.createTextNode(''));\n",
              "    const url = await google.colab.kernel.proxyPort(port);\n",
              "    const anchor = document.createElement('a');\n",
              "    anchor.href = new URL(path, url).toString();\n",
              "    anchor.target = '_blank';\n",
              "    anchor.setAttribute('data-href', url + path);\n",
              "    anchor.textContent = text;\n",
              "    element.appendChild(anchor);\n",
              "  })(8084, \"/\", \"https://localhost:8084/\", window.element)"
            ]
          },
          "metadata": {}
        },
        {
          "output_type": "stream",
          "name": "stdout",
          "text": [
            " * Serving Flask app '__main__'\n",
            " * Debug mode: off\n"
          ]
        },
        {
          "output_type": "stream",
          "name": "stderr",
          "text": [
            "INFO:werkzeug:\u001b[31m\u001b[1mWARNING: This is a development server. Do not use it in a production deployment. Use a production WSGI server instead.\u001b[0m\n",
            " * Running on all addresses (0.0.0.0)\n",
            " * Running on http://127.0.0.1:8084\n",
            " * Running on http://172.28.0.12:8084\n",
            "INFO:werkzeug:\u001b[33mPress CTRL+C to quit\u001b[0m\n"
          ]
        }
      ]
    },
    {
      "cell_type": "code",
      "source": [],
      "metadata": {
        "id": "P1XhgHpJuS-z"
      },
      "execution_count": null,
      "outputs": []
    }
  ]
}